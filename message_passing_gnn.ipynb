{
  "nbformat": 4,
  "nbformat_minor": 0,
  "metadata": {
    "colab": {
      "provenance": [],
      "authorship_tag": "ABX9TyODccK+HuQw2AeRbm5kJpjn",
      "include_colab_link": true
    },
    "kernelspec": {
      "name": "python3",
      "display_name": "Python 3"
    },
    "language_info": {
      "name": "python"
    }
  },
  "cells": [
    {
      "cell_type": "markdown",
      "metadata": {
        "id": "view-in-github",
        "colab_type": "text"
      },
      "source": [
        "<a href=\"https://colab.research.google.com/github/MicheleCattaneo/3D_Reconstruction_CV/blob/main/message_passing_gnn.ipynb\" target=\"_parent\"><img src=\"https://colab.research.google.com/assets/colab-badge.svg\" alt=\"Open In Colab\"/></a>"
      ]
    },
    {
      "cell_type": "code",
      "execution_count": 65,
      "metadata": {
        "id": "N8TwXbHj3MT9"
      },
      "outputs": [],
      "source": [
        "import torch\n",
        "# !pip install torch_geometric\n",
        "from torch_geometric.data import Data\n",
        "from torch_geometric.utils import scatter\n",
        "import torch_geometric.transforms as T\n",
        "from torch.nn import Linear, Parameter\n",
        "from torch_geometric.nn import MessagePassing\n",
        "from torch_geometric.utils import add_self_loops, degree"
      ]
    },
    {
      "cell_type": "markdown",
      "source": [
        "##### GCN Layer\n",
        "\n",
        "$$\n",
        "x_i^{(k)} = \\sum_{j\\in \\mathcal{N}(i)\\cup \\{i\\}}\\frac{1}{\\sqrt{deg(i)}\\cdot\\sqrt{deg(j)}}\\cdot \\left( W^T\\cdot x_j^{(k-1)}\\right)+b\n",
        "$$"
      ],
      "metadata": {
        "id": "PMqenftbKkaj"
      }
    },
    {
      "cell_type": "code",
      "source": [
        "from torch_geometric.nn.models.dimenet import sqrt\n",
        "class GCNConv(MessagePassing):\n",
        "  def __init__(self, in_channels, out_channels):\n",
        "    super().__init__(aggr='add')\n",
        "    self.linear = Linear(in_channels, out_channels, bias=False)\n",
        "    self.b = Parameter(torch.empty(out_channels))\n",
        "\n",
        "\n",
        "  def forward(self, x, edge_index):\n",
        "    # x.shape -> [N, in_channels]\n",
        "    # edge_index.shape -> [2, E]\n",
        "\n",
        "    # add self loops\n",
        "    edge_index, _ = add_self_loops(edge_index, num_nodes=x.size(0))\n",
        "\n",
        "    x = self.linear(x)\n",
        "\n",
        "    src, tgt = edge_index\n",
        "    deg = degree(tgt, x.size(0), dtype=x.dtype)\n",
        "    sqrt_deg_inv = deg.pow(-0.5)\n",
        "    sqrt_deg_inv[sqrt_deg_inv == float('inf')] = 0\n",
        "    sqrt_deg_i_inv, sqrt_deg_j_inv = sqrt_deg_inv[src], sqrt_deg_inv[tgt]\n",
        "\n",
        "    # norm.shape = [E,]\n",
        "    norm = sqrt_deg_i_inv * sqrt_deg_j_inv\n",
        "\n",
        "    # pass norm to propagate which will be used in the message\n",
        "    out = self.propagate(edge_index=edge_index, x=x, norm=norm.view(-1,1))\n",
        "\n",
        "    out += self.bias\n",
        "\n",
        "    return out\n",
        "\n",
        "  def message(self, x_j, norm):\n",
        "    return norm * x_j\n"
      ],
      "metadata": {
        "id": "X2wRXUMRKkL2"
      },
      "execution_count": 109,
      "outputs": []
    },
    {
      "cell_type": "code",
      "source": [],
      "metadata": {
        "id": "bsJUl8kESf8r"
      },
      "execution_count": null,
      "outputs": []
    }
  ]
}